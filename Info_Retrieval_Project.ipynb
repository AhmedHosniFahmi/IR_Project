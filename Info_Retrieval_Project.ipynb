{
  "cells": [
    {
      "cell_type": "markdown",
      "metadata": {
        "id": "nznccF8ECEZP"
      },
      "source": [
        "# Information Retrieval and Text Analytics Project"
      ]
    },
    {
      "cell_type": "markdown",
      "metadata": {
        "id": "9bE14IOfCPKo"
      },
      "source": [
        "## Introduction"
      ]
    },
    {
      "cell_type": "markdown",
      "metadata": {
        "id": "i44Dv5q7QOMA"
      },
      "source": [
        "**Overview of Information Retrieval (IR) Systems:** An information retrieval system is a system or software designed to search for and retrieve relevant information from a large collection of unstructured or semi-structured data, such as text documents, images, or multimedia content, based on user queries. These systems are essential in handling vast amounts of information, such as those found on the internet, in digital libraries, or within enterprise data systems.\n",
        "\n",
        "Examples of information retrieval systems:\n",
        "1.   **Google:** A search engine that retrieves relevant web pages based on keywords entered by the user.\n",
        "2.   **Amazon:** An e-commerce platform where users search for products by entering keywords or browsing categories.\n",
        "3.   **PubMed:** A database for medical research articles, allowing users to search for academic papers related to health and science.\n",
        "\n"
      ]
    },
    {
      "cell_type": "markdown",
      "metadata": {
        "id": "LZK9X2N4CRJV"
      },
      "source": [
        "**Background:** Data can be found everywhere around us. With the proliferation of digital devices, vast amounts of data are being generated and shared. We can find valuable information in news, books, papers, documentations and wikis. Though to find this valuable information, one must swim through a sea of redundant and sometimes useless data. Therefore, there is a growing need for a way to quickly obtain and sift through this data to extract valuable insights. Many information retrieval models were developed to handle said issue, albeit with varying performances. This creates the issue where we want to know which model performs better in the realm of information retrieval.\n"
      ]
    },
    {
      "cell_type": "markdown",
      "metadata": {
        "id": "2iP5Yx0NNd9_"
      },
      "source": [
        "\n",
        "**Objective:** This project aims to develop a system that retrieves relevant information from text datasets using 3 different information retrieval models and comparing between their performances to know which one is better. The system also allows us to improve the understanding and organization of the data through text analytics. This includes leveraging preprocessing techniques to enhance text representation, applying robust retrieval methods to ensure accuracy, and utilizing visualizations to provide actionable insights and evaluate performance effectively."
      ]
    },
    {
      "cell_type": "markdown",
      "metadata": {
        "id": "GPyQaRx4NesK"
      },
      "source": [
        "**Scope:** The scope includes implementing advanced preprocessing techniques such as tokenization, case standardization, stopwords removal, stemming, and TF-IDF to improve text representation. Additionally, it encompasses the integration of Vector Space Model, Boolean Retrieval Model, and BM25 retrieval algorithms for ranking and identifying relevant information based on user queries. We compare between the performances of these algorithms. To enhance usability, the project will also incorporate visualization tools such as word clouds for top keywords in documents, Frequency distribution of words, document-query similarity scores (e.g., bar charts), and clustering topics using LDA (Latent Dirichlet Allocation). The project will be limited to textual data and will not cover multimedia or non-textual information retrieval."
      ]
    },
    {
      "cell_type": "markdown",
      "metadata": {
        "id": "7lfdgSg8CjEp"
      },
      "source": [
        "## Data Collection"
      ]
    },
    {
      "cell_type": "code",
      "execution_count": 31,
      "metadata": {
        "colab": {
          "base_uri": "https://localhost:8080/"
        },
        "id": "-LITYCPnBisa",
        "outputId": "53a5f945-7e90-42c8-fb10-5368bec2cf7b"
      },
      "outputs": [
        {
          "name": "stdout",
          "output_type": "stream",
          "text": [
            "Requirement already satisfied: kagglehub in c:\\users\\ahmed\\desktop\\ir_project\\.venv\\lib\\site-packages (0.3.6)\n",
            "Requirement already satisfied: packaging in c:\\users\\ahmed\\desktop\\ir_project\\.venv\\lib\\site-packages (from kagglehub) (24.2)\n",
            "Requirement already satisfied: requests in c:\\users\\ahmed\\desktop\\ir_project\\.venv\\lib\\site-packages (from kagglehub) (2.32.3)\n",
            "Requirement already satisfied: tqdm in c:\\users\\ahmed\\desktop\\ir_project\\.venv\\lib\\site-packages (from kagglehub) (4.67.1)\n",
            "Requirement already satisfied: charset-normalizer<4,>=2 in c:\\users\\ahmed\\desktop\\ir_project\\.venv\\lib\\site-packages (from requests->kagglehub) (3.4.0)\n",
            "Requirement already satisfied: idna<4,>=2.5 in c:\\users\\ahmed\\desktop\\ir_project\\.venv\\lib\\site-packages (from requests->kagglehub) (3.10)\n",
            "Requirement already satisfied: urllib3<3,>=1.21.1 in c:\\users\\ahmed\\desktop\\ir_project\\.venv\\lib\\site-packages (from requests->kagglehub) (2.3.0)\n",
            "Requirement already satisfied: certifi>=2017.4.17 in c:\\users\\ahmed\\desktop\\ir_project\\.venv\\lib\\site-packages (from requests->kagglehub) (2024.12.14)\n",
            "Requirement already satisfied: colorama in c:\\users\\ahmed\\desktop\\ir_project\\.venv\\lib\\site-packages (from tqdm->kagglehub) (0.4.6)\n",
            "Requirement already satisfied: rank_bm25 in c:\\users\\ahmed\\desktop\\ir_project\\.venv\\lib\\site-packages (0.2.2)\n",
            "Requirement already satisfied: numpy in c:\\users\\ahmed\\desktop\\ir_project\\.venv\\lib\\site-packages (from rank_bm25) (2.2.1)\n",
            "Requirement already satisfied: nltk in c:\\users\\ahmed\\desktop\\ir_project\\.venv\\lib\\site-packages (3.9.1)\n",
            "Requirement already satisfied: click in c:\\users\\ahmed\\desktop\\ir_project\\.venv\\lib\\site-packages (from nltk) (8.1.8)\n",
            "Requirement already satisfied: joblib in c:\\users\\ahmed\\desktop\\ir_project\\.venv\\lib\\site-packages (from nltk) (1.4.2)\n",
            "Requirement already satisfied: regex>=2021.8.3 in c:\\users\\ahmed\\desktop\\ir_project\\.venv\\lib\\site-packages (from nltk) (2024.11.6)\n",
            "Requirement already satisfied: tqdm in c:\\users\\ahmed\\desktop\\ir_project\\.venv\\lib\\site-packages (from nltk) (4.67.1)\n",
            "Requirement already satisfied: colorama in c:\\users\\ahmed\\desktop\\ir_project\\.venv\\lib\\site-packages (from click->nltk) (0.4.6)\n",
            "Requirement already satisfied: scikit-learn in c:\\users\\ahmed\\desktop\\ir_project\\.venv\\lib\\site-packages (1.6.0)\n",
            "Requirement already satisfied: numpy>=1.19.5 in c:\\users\\ahmed\\desktop\\ir_project\\.venv\\lib\\site-packages (from scikit-learn) (2.2.1)\n",
            "Requirement already satisfied: scipy>=1.6.0 in c:\\users\\ahmed\\desktop\\ir_project\\.venv\\lib\\site-packages (from scikit-learn) (1.14.1)\n",
            "Requirement already satisfied: joblib>=1.2.0 in c:\\users\\ahmed\\desktop\\ir_project\\.venv\\lib\\site-packages (from scikit-learn) (1.4.2)\n",
            "Requirement already satisfied: threadpoolctl>=3.1.0 in c:\\users\\ahmed\\desktop\\ir_project\\.venv\\lib\\site-packages (from scikit-learn) (3.5.0)\n"
          ]
        },
        {
          "name": "stderr",
          "output_type": "stream",
          "text": [
            "[nltk_data] Downloading package punkt_tab to\n",
            "[nltk_data]     C:\\Users\\Ahmed\\AppData\\Roaming\\nltk_data...\n",
            "[nltk_data]   Package punkt_tab is already up-to-date!\n",
            "[nltk_data] Downloading package punkt to\n",
            "[nltk_data]     C:\\Users\\Ahmed\\AppData\\Roaming\\nltk_data...\n",
            "[nltk_data]   Package punkt is already up-to-date!\n",
            "[nltk_data] Downloading package stopwords to\n",
            "[nltk_data]     C:\\Users\\Ahmed\\AppData\\Roaming\\nltk_data...\n",
            "[nltk_data]   Package stopwords is already up-to-date!\n",
            "[nltk_data] Downloading package wordnet to\n",
            "[nltk_data]     C:\\Users\\Ahmed\\AppData\\Roaming\\nltk_data...\n",
            "[nltk_data]   Package wordnet is already up-to-date!\n"
          ]
        },
        {
          "data": {
            "text/plain": [
              "True"
            ]
          },
          "execution_count": 31,
          "metadata": {},
          "output_type": "execute_result"
        }
      ],
      "source": [
        "# Downloading required dataset(s)\n",
        "!pip install kagglehub\n",
        "!pip install rank_bm25\n",
        "!pip install nltk\n",
        "!pip install scikit-learn\n",
        "import kagglehub\n",
        "import nltk\n",
        "import os\n",
        "import re\n",
        "from nltk.corpus import stopwords\n",
        "from nltk.stem import PorterStemmer, WordNetLemmatizer\n",
        "from rank_bm25 import BM25Okapi\n",
        "from sklearn.feature_extraction.text import CountVectorizer, TfidfVectorizer\n",
        "from sklearn.metrics.pairwise import cosine_similarity\n",
        "nltk.download('punkt_tab')\n",
        "nltk.download('punkt')\n",
        "nltk.download('stopwords')\n",
        "nltk.download('wordnet')\n",
        "# path = kagglehub.dataset_download(\"crawford/20-newsgroups\")\n",
        "# The dataset will be download in /home/<user>/.cache/kagglehub\n"
      ]
    },
    {
      "cell_type": "markdown",
      "metadata": {
        "id": "dCMSqqcwWrLS"
      },
      "source": [
        "## Data Inspection"
      ]
    },
    {
      "cell_type": "code",
      "execution_count": 32,
      "metadata": {
        "colab": {
          "base_uri": "https://localhost:8080/"
        },
        "id": "CmUr38rBWsxt",
        "outputId": "27879075-479a-49a6-d984-7db334237efb"
      },
      "outputs": [
        {
          "name": "stdout",
          "output_type": "stream",
          "text": [
            "Newsgroup: talk.politics.guns\n",
            "document_id: 53293\n",
            "From: manes@magpie.linknet.com (Steve Manes)\n",
            "Subject: Re: Gun Control (was Re: We're Mad as Hell at the TV News)\n",
            "\n",
            "hambidge@bms.com wrote:\n",
            ": In article \n"
          ]
        }
      ],
      "source": [
        "# Specify the file path\n",
        "file_path = \"./20-newsgroups/talk.politics.guns.txt\"  # Replace with the actual path to your file\n",
        "\n",
        "# Check if the file exists\n",
        "if os.path.exists(file_path):\n",
        "    # Open the file and read its contents\n",
        "    with open(file_path, 'r', encoding='latin-1') as file:  # Use 'latin-1' encoding\n",
        "        file_contents = file.read()\n",
        "\n",
        "    # Print or process the file contents\n",
        "    print(file_contents[:200])  # Print the first 200 characters of the file contents\n",
        "else:\n",
        "    print(f\"Error: File not found at '{file_path}'\")"
      ]
    },
    {
      "cell_type": "markdown",
      "metadata": {},
      "source": [
        "# Data Preprocessing"
      ]
    },
    {
      "cell_type": "markdown",
      "metadata": {},
      "source": [
        "#### Implementing tokenization, lowercasing, stopwords removal, stemming and lemmatization."
      ]
    },
    {
      "cell_type": "code",
      "execution_count": 4,
      "metadata": {
        "colab": {
          "base_uri": "https://localhost:8080/"
        },
        "id": "UT5Qd_kX1swy",
        "outputId": "dfd9a366-6e93-4aa4-b541-a1a2f1796052"
      },
      "outputs": [],
      "source": [
        "def preprocess_text(text):\n",
        "    # Tokenization\n",
        "    tokens = nltk.word_tokenize(text)\n",
        "\n",
        "    # Lowercasing\n",
        "    tokens = [token.lower() for token in tokens]\n",
        "\n",
        "    # Stopword Removal\n",
        "    stop_words = set(stopwords.words('english'))\n",
        "    tokens = [token for token in tokens if token not in stop_words and token.isalnum()]\n",
        "\n",
        "    # Stemming\n",
        "    stemmer = PorterStemmer()\n",
        "    tokens = [stemmer.stem(token) for token in tokens]\n",
        "\n",
        "    # Lemmatization\n",
        "    lemmatizer = WordNetLemmatizer()\n",
        "    tokens = [lemmatizer.lemmatize(token) for token in tokens]\n",
        "\n",
        "    return ' '.join(tokens)"
      ]
    },
    {
      "cell_type": "markdown",
      "metadata": {},
      "source": [
        "#### Implementing Vectorization (BoW/TF-IDF)"
      ]
    },
    {
      "cell_type": "code",
      "execution_count": 5,
      "metadata": {},
      "outputs": [],
      "source": [
        "def vectorize_texts(texts, method='bow'):\n",
        "    \"\"\"\n",
        "    Vectorize texts using Bag of Words (BOW) or TF-IDF.\n",
        "\n",
        "    Parameters:\n",
        "    texts (list of str): List of texts to vectorize.\n",
        "    method (str): Method of vectorization ('bow' or 'tfidf').\n",
        "\n",
        "    Returns:\n",
        "    X (sparse matrix): Vectorized text data.\n",
        "    vectorizer (Vectorizer object): Fitted vectorizer.\n",
        "    \"\"\"\n",
        "    if method == 'bow':\n",
        "        vectorizer = CountVectorizer()\n",
        "    elif method == 'tfidf':\n",
        "        vectorizer = TfidfVectorizer()\n",
        "    else:\n",
        "        raise ValueError(\"Method must be 'bow' or 'tfidf'\")\n",
        "\n",
        "    X = vectorizer.fit_transform(texts)\n",
        "    return X, vectorizer"
      ]
    },
    {
      "cell_type": "markdown",
      "metadata": {},
      "source": [
        "##### Read and Process all the documents"
      ]
    },
    {
      "cell_type": "code",
      "execution_count": null,
      "metadata": {},
      "outputs": [],
      "source": [
        "def read_and_preprocess_files(directory_path='./20-newsgroups'):\n",
        "    preprocessed_texts = []\n",
        "    filenames = []\n",
        "    for filename in os.listdir(directory_path):\n",
        "        file_path = os.path.join(directory_path, filename)\n",
        "        if os.path.isfile(file_path):\n",
        "            with open(file_path, 'r', encoding='latin-1') as file:\n",
        "                text = file.read()\n",
        "                preprocessed_text = preprocess_text(text)\n",
        "                preprocessed_texts.append(preprocessed_text)\n",
        "                filenames.append(filename)\n",
        "    return preprocessed_texts, filenames"
      ]
    },
    {
      "cell_type": "code",
      "execution_count": null,
      "metadata": {},
      "outputs": [],
      "source": [
        "preprocessed_texts, filenames = read_and_preprocess_files()\n",
        "preprocessed_texts[:][0][:50]"
      ]
    },
    {
      "cell_type": "markdown",
      "metadata": {},
      "source": [
        "#### BoW Vectorization"
      ]
    },
    {
      "cell_type": "code",
      "execution_count": 50,
      "metadata": {},
      "outputs": [
        {
          "name": "stdout",
          "output_type": "stream",
          "text": [
            "<Compressed Sparse Row sparse matrix of dtype 'int64'\n",
            "\twith 255181 stored elements and shape (20, 116313)>\n",
            "  Coords\tValues\n",
            "  (0, 74613)\t528\n",
            "  (0, 100478)\t2805\n",
            "  (0, 52997)\t303\n",
            "  (0, 34556)\t2022\n",
            "  (0, 92161)\t57\n",
            "  (0, 4454)\t30\n",
            "  (0, 46253)\t9\n",
            "  (0, 8041)\t24\n",
            "  (0, 108649)\t207\n",
            "  (0, 31229)\t105\n",
            "  (0, 83714)\t162\n",
            "  (0, 107442)\t96\n",
            "  (0, 54903)\t225\n",
            "  (0, 91836)\t1389\n",
            "  (0, 54679)\t51\n",
            "  (0, 45820)\t45\n",
            "  (0, 53899)\t75\n",
            "  (0, 39308)\t6\n",
            "  (0, 99943)\t9\n",
            "  (0, 34411)\t21\n",
            "  (0, 85035)\t6\n",
            "  (0, 34930)\t93\n",
            "  (0, 111995)\t3015\n",
            "  (0, 53531)\t6\n",
            "  (0, 38426)\t99\n",
            "  :\t:\n",
            "  (19, 55777)\t2\n",
            "  (19, 60621)\t2\n",
            "  (19, 104123)\t4\n",
            "  (19, 66362)\t2\n",
            "  (19, 47850)\t2\n",
            "  (19, 30998)\t2\n",
            "  (19, 63349)\t2\n",
            "  (19, 112001)\t2\n",
            "  (19, 27868)\t2\n",
            "  (19, 27869)\t2\n",
            "  (19, 27870)\t2\n",
            "  (19, 76776)\t2\n",
            "  (19, 103323)\t2\n",
            "  (19, 27871)\t2\n",
            "  (19, 35716)\t2\n",
            "  (19, 27872)\t2\n",
            "  (19, 9345)\t2\n",
            "  (19, 27873)\t2\n",
            "  (19, 89845)\t2\n",
            "  (19, 74537)\t2\n",
            "  (19, 63808)\t2\n",
            "  (19, 29204)\t2\n",
            "  (19, 27076)\t2\n",
            "  (19, 27874)\t2\n",
            "  (19, 36800)\t2\n"
          ]
        }
      ],
      "source": [
        "X_bow, vectorizer_bow = vectorize_texts(preprocessed_texts, method='bow')\n",
        "print(X_bow)"
      ]
    },
    {
      "cell_type": "markdown",
      "metadata": {},
      "source": [
        "#### TF-IDF Vectorization"
      ]
    },
    {
      "cell_type": "code",
      "execution_count": 51,
      "metadata": {},
      "outputs": [
        {
          "name": "stdout",
          "output_type": "stream",
          "text": [
            "<Compressed Sparse Row sparse matrix of dtype 'float64'\n",
            "\twith 255181 stored elements and shape (20, 116313)>\n",
            "  Coords\tValues\n",
            "  (0, 74613)\t0.056268502858254944\n",
            "  (0, 100478)\t0.17160572527992948\n",
            "  (0, 52997)\t0.018537089040933562\n",
            "  (0, 34556)\t0.228516196021637\n",
            "  (0, 92161)\t0.0034871751661162144\n",
            "  (0, 4454)\t0.0018353553505874812\n",
            "  (0, 46253)\t0.0006057132185266019\n",
            "  (0, 8041)\t0.001468284280469985\n",
            "  (0, 108649)\t0.012663951919053621\n",
            "  (0, 31229)\t0.006423743727056184\n",
            "  (0, 83714)\t0.009910918893172398\n",
            "  (0, 107442)\t0.00587313712187994\n",
            "  (0, 54903)\t0.01588707469203853\n",
            "  (0, 91836)\t0.10293335559664273\n",
            "  (0, 54679)\t0.003432374904984077\n",
            "  (0, 45820)\t0.006201930851749967\n",
            "  (0, 53899)\t0.0050476101543883494\n",
            "  (0, 39308)\t0.0006394148052074424\n",
            "  (0, 99943)\t0.0007358704411183083\n",
            "  (0, 34411)\t0.0018056695343612325\n",
            "  (0, 85035)\t0.0009757586246952326\n",
            "  (0, 34930)\t0.005689601586821192\n",
            "  (0, 111995)\t0.18445321273404186\n",
            "  (0, 53531)\t0.001230192902012297\n",
            "  (0, 38426)\t0.006056672656938688\n",
            "  :\t:\n",
            "  (19, 55777)\t0.0007898764122146313\n",
            "  (19, 60621)\t0.0007898764122146313\n",
            "  (19, 104123)\t0.0015797528244292625\n",
            "  (19, 66362)\t0.0007898764122146313\n",
            "  (19, 47850)\t0.0007898764122146313\n",
            "  (19, 30998)\t0.0007898764122146313\n",
            "  (19, 63349)\t0.0007898764122146313\n",
            "  (19, 112001)\t0.0007898764122146313\n",
            "  (19, 27868)\t0.0007898764122146313\n",
            "  (19, 27869)\t0.0007898764122146313\n",
            "  (19, 27870)\t0.0007898764122146313\n",
            "  (19, 76776)\t0.0007898764122146313\n",
            "  (19, 103323)\t0.0007898764122146313\n",
            "  (19, 27871)\t0.0007898764122146313\n",
            "  (19, 35716)\t0.0007898764122146313\n",
            "  (19, 27872)\t0.0007898764122146313\n",
            "  (19, 9345)\t0.0007898764122146313\n",
            "  (19, 27873)\t0.0007898764122146313\n",
            "  (19, 89845)\t0.0007898764122146313\n",
            "  (19, 74537)\t0.0007898764122146313\n",
            "  (19, 63808)\t0.0007898764122146313\n",
            "  (19, 29204)\t0.0007898764122146313\n",
            "  (19, 27076)\t0.0007898764122146313\n",
            "  (19, 27874)\t0.0007898764122146313\n",
            "  (19, 36800)\t0.0007898764122146313\n"
          ]
        }
      ],
      "source": [
        "X_tfidf, vectorizer_tfidf = vectorize_texts(preprocessed_texts, method='tfidf')\n",
        "print(X_tfidf)"
      ]
    },
    {
      "cell_type": "markdown",
      "metadata": {},
      "source": [
        "# Retrieval Models"
      ]
    },
    {
      "cell_type": "markdown",
      "metadata": {},
      "source": [
        "##### Set the query"
      ]
    },
    {
      "cell_type": "code",
      "execution_count": 52,
      "metadata": {},
      "outputs": [],
      "source": [
        "query = \"god will punish you\""
      ]
    },
    {
      "cell_type": "markdown",
      "metadata": {},
      "source": [
        "## Implementing BM25 (Best Matching 25)"
      ]
    },
    {
      "cell_type": "code",
      "execution_count": 53,
      "metadata": {},
      "outputs": [],
      "source": [
        "def apply_bm25(query=query, preprocessed_texts=preprocessed_texts, filenames=filenames):\n",
        "    \"\"\"\n",
        "    Apply BM25 algorithm to retrieve and rank documents based on a query.\n",
        "    Parameters:\n",
        "    query (str): The search query.\n",
        "    preprocessed_texts (list of str): List of preprocessed texts.\n",
        "    filenames (list of str): List of filenames corresponding to the texts.\n",
        "    Returns:\n",
        "    list: List of retrieved document filenames.\n",
        "    dict: Dictionary of filenames and their BM25 scores.\n",
        "    \"\"\"\n",
        "    # Tokenize the preprocessed texts\n",
        "    tokenized_texts = [text.split() for text in preprocessed_texts]\n",
        "\n",
        "    # Initialize BM25 with the tokenized corpus\n",
        "    bm25 = BM25Okapi(tokenized_texts)\n",
        "\n",
        "    # Preprocess and tokenize the query\n",
        "    tokenized_query = preprocess_text(query).split()\n",
        "\n",
        "    # Get BM25 scores for the query\n",
        "    scores = bm25.get_scores(tokenized_query)\n",
        "\n",
        "    # Rank documents based on the scores\n",
        "    top_n = 5\n",
        "    top_n_indices = scores.argsort()[-top_n:][::-1]\n",
        "\n",
        "    # Retrieve the filenames of the top-ranked documents\n",
        "    retrieved_docs = [filenames[i] for i in top_n_indices]\n",
        "\n",
        "    # Create a dictionary of filenames and their scores\n",
        "    ranked_documents = {filenames[i]: scores[i] for i in top_n_indices}\n",
        "\n",
        "    return retrieved_docs, ranked_documents"
      ]
    },
    {
      "cell_type": "code",
      "execution_count": 54,
      "metadata": {},
      "outputs": [],
      "source": [
        "bm25_retrieved_docs, bm25_ranked_documents = apply_bm25(query=query)"
      ]
    },
    {
      "cell_type": "code",
      "execution_count": 55,
      "metadata": {},
      "outputs": [
        {
          "data": {
            "text/plain": [
              "{'alt.atheism.txt': np.float64(2.6840983264916263),\n",
              " 'soc.religion.christian.txt': np.float64(2.682816014354655),\n",
              " 'talk.religion.misc.txt': np.float64(2.6755093572955917),\n",
              " 'talk.politics.mideast.txt': np.float64(2.6526685421754683),\n",
              " 'misc.forsale.txt': np.float64(2.634362546834729)}"
            ]
          },
          "execution_count": 55,
          "metadata": {},
          "output_type": "execute_result"
        }
      ],
      "source": [
        "bm25_ranked_documents"
      ]
    },
    {
      "cell_type": "markdown",
      "metadata": {},
      "source": [
        "## Implementing Vector Space Model (VSM)"
      ]
    },
    {
      "cell_type": "code",
      "execution_count": 56,
      "metadata": {},
      "outputs": [],
      "source": [
        "def apply_vsm(query=query, preprocessed_texts=preprocessed_texts, vectorizer=vectorizer_bow):\n",
        "    # Vectorize the preprocessed texts\n",
        "    X = vectorizer.fit_transform(preprocessed_texts)\n",
        "\n",
        "    # Vectorize the query\n",
        "    query_vector = vectorizer.transform([query])\n",
        "\n",
        "    # Calculate cosine similarity between the query and the documents\n",
        "    similarities = cosine_similarity(query_vector, X).flatten()\n",
        "\n",
        "    # Rank documents based on similarity scores\n",
        "    ranked_indices = similarities.argsort()[::-1]\n",
        "    ranked_indices = ranked_indices[:5]\n",
        "\n",
        "    # Print the ranked documents with filenames and similarity scores\n",
        "    dict = {}\n",
        "    for i in ranked_indices[:]:  # Display top 20 results\n",
        "        dict[filenames[i]] = similarities[i]\n",
        "        # print(f\"Document: {filenames[i]}, Similarity: {similarities[i]}\")\n",
        "\n",
        "    retrieved_documents = [filenames[i] for i in ranked_indices]\n",
        "    return retrieved_documents, dict"
      ]
    },
    {
      "cell_type": "code",
      "execution_count": 57,
      "metadata": {},
      "outputs": [],
      "source": [
        "vsm_bow_retrieved_documents, vsm_bow_ranked_documents = apply_vsm(vectorizer=vectorizer_bow)"
      ]
    },
    {
      "cell_type": "code",
      "execution_count": 58,
      "metadata": {},
      "outputs": [
        {
          "data": {
            "text/plain": [
              "{'soc.religion.christian.txt': np.float64(0.19818620441718507),\n",
              " 'talk.religion.misc.txt': np.float64(0.1513463575635367),\n",
              " 'alt.atheism.txt': np.float64(0.13592968621712972),\n",
              " 'misc.forsale.txt': np.float64(0.021518098056080452),\n",
              " 'talk.politics.mideast.txt': np.float64(0.014887751854709957)}"
            ]
          },
          "execution_count": 58,
          "metadata": {},
          "output_type": "execute_result"
        }
      ],
      "source": [
        "vsm_bow_ranked_documents "
      ]
    },
    {
      "cell_type": "code",
      "execution_count": 59,
      "metadata": {},
      "outputs": [],
      "source": [
        "vsm_tfidf_retrieved_documents, vsm_tfidf_ranked_documents = apply_vsm(vectorizer=vectorizer_tfidf)"
      ]
    },
    {
      "cell_type": "code",
      "execution_count": 60,
      "metadata": {},
      "outputs": [
        {
          "data": {
            "text/plain": [
              "{'soc.religion.christian.txt': np.float64(0.09720759248313056),\n",
              " 'talk.religion.misc.txt': np.float64(0.0731307112782049),\n",
              " 'alt.atheism.txt': np.float64(0.0668824705021276),\n",
              " 'misc.forsale.txt': np.float64(0.013619322244066104),\n",
              " 'talk.politics.misc.txt': np.float64(0.007623357613257748)}"
            ]
          },
          "execution_count": 60,
          "metadata": {},
          "output_type": "execute_result"
        }
      ],
      "source": [
        "vsm_tfidf_ranked_documents"
      ]
    },
    {
      "cell_type": "markdown",
      "metadata": {},
      "source": [
        "# Evaluation"
      ]
    },
    {
      "cell_type": "markdown",
      "metadata": {},
      "source": [
        "#### Decide the relevant documents"
      ]
    },
    {
      "cell_type": "code",
      "execution_count": 63,
      "metadata": {},
      "outputs": [
        {
          "name": "stdout",
          "output_type": "stream",
          "text": [
            "1: alt.atheism.txt\n",
            "2: comp.graphics.txt\n",
            "3: comp.os.ms-windows.misc.txt\n",
            "4: comp.sys.ibm.pc.hardware.txt\n",
            "5: comp.sys.mac.hardware.txt\n",
            "6: comp.windows.x.txt\n",
            "7: misc.forsale.txt\n",
            "8: rec.autos.txt\n",
            "9: rec.motorcycles.txt\n",
            "10: rec.sport.baseball.txt\n",
            "11: rec.sport.hockey.txt\n",
            "12: sci.crypt.txt\n",
            "13: sci.electronics.txt\n",
            "14: sci.med.txt\n",
            "15: sci.space.txt\n",
            "16: soc.religion.christian.txt\n",
            "17: talk.politics.guns.txt\n",
            "18: talk.politics.mideast.txt\n",
            "19: talk.politics.misc.txt\n",
            "20: talk.religion.misc.txt\n"
          ]
        }
      ],
      "source": [
        "def get_documents_names(directory_path='./20-newsgroups'):\n",
        "    # Create a dictionary of filenames with keys from 1 to 20\n",
        "    filenames_dict = {i+1: filename for i, filename in enumerate(os.listdir(directory_path)[:20])}\n",
        "\n",
        "    # Print the dictionary for user reference\n",
        "    for key, value in filenames_dict.items():\n",
        "        print(f\"{key}: {value}\")\n",
        "\n",
        "    return filenames_dict\n",
        "\n",
        "filenames_dict = get_documents_names()"
      ]
    },
    {
      "cell_type": "code",
      "execution_count": 68,
      "metadata": {},
      "outputs": [
        {
          "name": "stdout",
          "output_type": "stream",
          "text": [
            "Relevant documents: ['alt.atheism.txt', 'soc.religion.christian.txt', 'talk.religion.misc.txt', 'comp.sys.ibm.pc.hardware.txt']\n"
          ]
        }
      ],
      "source": [
        "def get_relevant_documents(filenames_dict):\n",
        "    # Get user input for relevant document numbers\n",
        "    relevant_numbers = input(\"Enter the numbers related to the relevant documents, separated by commas: \")\n",
        "    relevant_numbers = [int(num.strip()) for num in relevant_numbers.split(',')]\n",
        "\n",
        "    # Save the corresponding filenames in a list\n",
        "    relevant_docs = [filenames_dict[num] for num in relevant_numbers if num in filenames_dict]\n",
        "\n",
        "    return relevant_docs\n",
        "\n",
        "# Example usage\n",
        "relevant_docs = get_relevant_documents(filenames_dict)\n",
        "print(f\"Relevant documents: {relevant_docs}\")"
      ]
    },
    {
      "cell_type": "markdown",
      "metadata": {},
      "source": [
        "### Precesion"
      ]
    },
    {
      "cell_type": "code",
      "execution_count": 74,
      "metadata": {},
      "outputs": [],
      "source": [
        "def calculate_precision(retrieved_docs, relevant_docs):\n",
        "    \"\"\"\n",
        "    Calculate precision.\n",
        "    {key: value, key: value}\n",
        "    Parameters:\n",
        "    retrieved_docs (list): List of retrieved document filenames.\n",
        "    relevant_docs (list): List of relevant document filenames.\n",
        "\n",
        "    Returns:\n",
        "    float: Precision value.\n",
        "    \"\"\"\n",
        "    # Convert lists to sets for easier calculation\n",
        "    retrieved_set = set(retrieved_docs)\n",
        "    relevant_set = set(relevant_docs)\n",
        "\n",
        "    # Calculate the number of relevant documents retrieved\n",
        "    relevant_retrieved = retrieved_set.intersection(relevant_set)\n",
        "\n",
        "    # Calculate precision\n",
        "    precision = len(relevant_retrieved) / len(retrieved_set) if retrieved_set else 0\n",
        "\n",
        "    return precision"
      ]
    },
    {
      "cell_type": "code",
      "execution_count": 75,
      "metadata": {},
      "outputs": [
        {
          "name": "stdout",
          "output_type": "stream",
          "text": [
            "BM25 Precision: 0.6\n",
            "VSM with BoW Precision: 0.6\n",
            "VSM with TF-IDF Precision: 0.6\n"
          ]
        }
      ],
      "source": [
        "# Calculate precision for BM25\n",
        "bm25_precision = calculate_precision(bm25_retrieved_docs, relevant_docs)\n",
        "# Calculate precision for VSM with BoW\n",
        "vsm_bow_precision = calculate_precision(vsm_bow_retrieved_documents, relevant_docs)\n",
        "# Calculate precision for VSM with TF-IDF\n",
        "vsm_tfidf_precision = calculate_precision(vsm_tfidf_retrieved_documents, relevant_docs)\n",
        "\n",
        "print(f\"BM25 Precision: {bm25_precision}\")\n",
        "print(f\"VSM with BoW Precision: {vsm_bow_precision}\")\n",
        "print(f\"VSM with TF-IDF Precision: {vsm_tfidf_precision}\")"
      ]
    },
    {
      "cell_type": "markdown",
      "metadata": {},
      "source": [
        "### Recall"
      ]
    },
    {
      "cell_type": "code",
      "execution_count": 76,
      "metadata": {},
      "outputs": [],
      "source": [
        "def calculate_recall(retrieved_docs, relevant_docs):\n",
        "    \"\"\"\n",
        "    Calculate recall.\n",
        "\n",
        "    Parameters:\n",
        "    retrieved_docs (list): List of retrieved document filenames.\n",
        "    relevant_docs (list): List of relevant document filenames.\n",
        "\n",
        "    Returns:\n",
        "    float: Recall value.\n",
        "    \"\"\"\n",
        "    # Convert lists to sets for easier calculation\n",
        "    retrieved_set = set(retrieved_docs)\n",
        "    relevant_set = set(relevant_docs)\n",
        "\n",
        "    # Calculate the number of relevant documents retrieved\n",
        "    relevant_retrieved = retrieved_set.intersection(relevant_set)\n",
        "\n",
        "    # Calculate recall\n",
        "    recall = len(relevant_retrieved) / len(relevant_set) if relevant_set else 0\n",
        "\n",
        "    return recall"
      ]
    },
    {
      "cell_type": "code",
      "execution_count": 77,
      "metadata": {},
      "outputs": [
        {
          "name": "stdout",
          "output_type": "stream",
          "text": [
            "BM25 Recall: 0.75\n",
            "VSM with BoW Recall: 0.75\n",
            "VSM with TF-IDF Recall: 0.75\n"
          ]
        }
      ],
      "source": [
        "# Calculate recall for BM25\n",
        "bm25_recall = calculate_recall(bm25_retrieved_docs, relevant_docs)\n",
        "# Calculate recall for VSM with BoW\n",
        "vsm_bow_recall = calculate_recall(vsm_bow_retrieved_documents, relevant_docs)\n",
        "# Calculate recall for VSM with TF-IDF\n",
        "vsm_tfidf_recall = calculate_recall(vsm_tfidf_retrieved_documents, relevant_docs)\n",
        "\n",
        "print(f\"BM25 Recall: {bm25_recall}\")\n",
        "print(f\"VSM with BoW Recall: {vsm_bow_recall}\")\n",
        "print(f\"VSM with TF-IDF Recall: {vsm_tfidf_recall}\")"
      ]
    },
    {
      "cell_type": "markdown",
      "metadata": {},
      "source": [
        "### Mean Average Precision (MAP)"
      ]
    },
    {
      "cell_type": "code",
      "execution_count": 78,
      "metadata": {},
      "outputs": [],
      "source": [
        "def calculate_mean_average_precision(retrieved_docs_list, relevant_docs_list):\n",
        "    \"\"\"\n",
        "    Calculate Mean Average Precision (MAP).\n",
        "\n",
        "    Parameters:\n",
        "    retrieved_docs_list (list of lists): List of retrieved document filenames for each query.\n",
        "    relevant_docs_list (list of lists): List of relevant document filenames for each query.\n",
        "\n",
        "    Returns:\n",
        "    float: Mean Average Precision value.\n",
        "    \"\"\"\n",
        "    def calculate_average_precision(retrieved_docs, relevant_docs):\n",
        "        \"\"\"\n",
        "        Calculate the average precision for a single query.\n",
        "\n",
        "\n",
        "        Parameters:\n",
        "        retrieved_docs (list): List of retrieved document filenames.\n",
        "        relevant_docs (list): List of relevant document filenames.\n",
        "\n",
        "        Returns:\n",
        "        float: Average precision value.\n",
        "        \"\"\"\n",
        "        retrieved_set = set(retrieved_docs)\n",
        "        relevant_set = set(relevant_docs)\n",
        "        \n",
        "        if not relevant_set:\n",
        "            return 0.0\n",
        "\n",
        "        relevant_retrieved = 0\n",
        "        precision_sum = 0.0\n",
        "\n",
        "        for i, doc in enumerate(retrieved_set):\n",
        "            if doc in relevant_set:\n",
        "                relevant_retrieved += 1\n",
        "                precision_sum += relevant_retrieved / (i + 1)\n",
        "\n",
        "        return precision_sum / len(relevant_set)\n",
        "\n",
        "    average_precisions = [\n",
        "        calculate_average_precision(retrieved_docs, relevant_docs)\n",
        "        for retrieved_docs, relevant_docs in zip(retrieved_docs_list, relevant_docs_list)\n",
        "    ]\n",
        "\n",
        "    return sum(average_precisions) / len(average_precisions) if average_precisions else 0.0"
      ]
    },
    {
      "cell_type": "code",
      "execution_count": 79,
      "metadata": {},
      "outputs": [
        {
          "name": "stdout",
          "output_type": "stream",
          "text": [
            "Mean Average Precision: 0.4833333333333334\n"
          ]
        }
      ],
      "source": [
        "# Calculate Mean Average Precision\n",
        "retrieved_docs_list = [bm25_retrieved_docs, vsm_bow_retrieved_documents, vsm_tfidf_retrieved_documents]\n",
        "relevant_docs_list = [relevant_docs] * 3\n",
        "mean_average_precision = calculate_mean_average_precision(retrieved_docs_list, relevant_docs_list)\n",
        "print(f\"Mean Average Precision: {mean_average_precision}\")"
      ]
    },
    {
      "cell_type": "markdown",
      "metadata": {},
      "source": [
        "# Visualization"
      ]
    },
    {
      "cell_type": "code",
      "execution_count": 80,
      "metadata": {},
      "outputs": [
        {
          "name": "stdout",
          "output_type": "stream",
          "text": [
            "{'alt.atheism.txt': 0, 'comp.graphics.txt': 0, 'comp.os.ms-windows.misc.txt': 0, 'comp.sys.ibm.pc.hardware.txt': 0, 'comp.sys.mac.hardware.txt': 0, 'comp.windows.x.txt': 0, 'misc.forsale.txt': 0, 'rec.autos.txt': 0, 'rec.motorcycles.txt': 0, 'rec.sport.baseball.txt': 0, 'rec.sport.hockey.txt': 0, 'sci.crypt.txt': 0, 'sci.electronics.txt': 0, 'sci.med.txt': 0, 'sci.space.txt': 0, 'soc.religion.christian.txt': 0, 'talk.politics.guns.txt': 0, 'talk.politics.mideast.txt': 0, 'talk.politics.misc.txt': 0, 'talk.religion.misc.txt': 0}\n"
          ]
        }
      ],
      "source": [
        "def count_word_in_files(directory_path='./20-newsgroups', word=\"god will be with you\"):\n",
        "    \"\"\"\n",
        "    Count the occurrences of a word in all files within a directory.\n",
        "\n",
        "    Parameters:\n",
        "    directory_path (str): Path to the directory containing text files.\n",
        "    word (str): Word to count occurrences of.\n",
        "\n",
        "    Returns:\n",
        "    dict: A dictionary with filenames as keys and word counts as values, sorted by word counts.\n",
        "    \"\"\"\n",
        "    word_count = {}\n",
        "    word = word.lower()  # Convert the word to lowercase for case-insensitive matching\n",
        "\n",
        "    for filename in os.listdir(directory_path):\n",
        "        file_path = os.path.join(directory_path, filename)\n",
        "        if os.path.isfile(file_path):\n",
        "            with open(file_path, 'r', encoding='latin-1') as file:\n",
        "                text = file.read()\n",
        "\n",
        "                # Preprocess the text: remove punctuation, convert to lowercase\n",
        "                text = re.sub(r'[^\\w\\s]', '', text)\n",
        "                text = text.lower()\n",
        "\n",
        "                # Count occurrences of the word\n",
        "                count = text.split().count(word)\n",
        "                word_count[filename] = count\n",
        "\n",
        "    # Sort the dictionary by word counts in descending order\n",
        "    sorted_word_count = dict(sorted(word_count.items(), key=lambda item: item[1], reverse=True))\n",
        "\n",
        "    return sorted_word_count\n",
        "\n",
        "word_counts = count_word_in_files()\n",
        "print(word_counts)"
      ]
    }
  ],
  "metadata": {
    "colab": {
      "provenance": []
    },
    "kernelspec": {
      "display_name": ".venv",
      "language": "python",
      "name": "python3"
    },
    "language_info": {
      "codemirror_mode": {
        "name": "ipython",
        "version": 3
      },
      "file_extension": ".py",
      "mimetype": "text/x-python",
      "name": "python",
      "nbconvert_exporter": "python",
      "pygments_lexer": "ipython3",
      "version": "3.12.1"
    }
  },
  "nbformat": 4,
  "nbformat_minor": 0
}
